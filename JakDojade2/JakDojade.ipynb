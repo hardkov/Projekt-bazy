{
 "cells": [
  {
   "cell_type": "code",
   "execution_count": 2,
   "metadata": {},
   "outputs": [],
   "source": [
    "from neo4j import GraphDatabase\n",
    "import request\n",
    "from pandas import DataFrame"
   ]
  },
  {
   "cell_type": "markdown",
   "metadata": {},
   "source": [
    "## Connecting to database"
   ]
  },
  {
   "cell_type": "code",
   "execution_count": 3,
   "metadata": {},
   "outputs": [],
   "source": [
    "uri = \"bolt://localhost:7687\"\n",
    "driver = GraphDatabase.driver(uri, auth=(\"neo4j\", \"admin\"), encrypted=False)\n",
    "session = driver.session()"
   ]
  },
  {
   "cell_type": "markdown",
   "metadata": {},
   "source": [
    "## Acquiring shortest path"
   ]
  },
  {
   "cell_type": "code",
   "execution_count": 14,
   "metadata": {},
   "outputs": [
    {
     "data": {
      "text/html": [
       "<div>\n",
       "<style scoped>\n",
       "    .dataframe tbody tr th:only-of-type {\n",
       "        vertical-align: middle;\n",
       "    }\n",
       "\n",
       "    .dataframe tbody tr th {\n",
       "        vertical-align: top;\n",
       "    }\n",
       "\n",
       "    .dataframe thead th {\n",
       "        text-align: right;\n",
       "    }\n",
       "</style>\n",
       "<table border=\"1\" class=\"dataframe\">\n",
       "  <thead>\n",
       "    <tr style=\"text-align: right;\">\n",
       "      <th></th>\n",
       "      <th>stop</th>\n",
       "      <th>line</th>\n",
       "      <th>time</th>\n",
       "    </tr>\n",
       "  </thead>\n",
       "  <tbody>\n",
       "    <tr>\n",
       "      <th>0</th>\n",
       "      <td>Tyniec Kamieniolom</td>\n",
       "      <td>112 Os. Podwawelskie</td>\n",
       "      <td>0.0</td>\n",
       "    </tr>\n",
       "    <tr>\n",
       "      <th>1</th>\n",
       "      <td>Bogucianka</td>\n",
       "      <td>112 Os. Podwawelskie</td>\n",
       "      <td>1.0</td>\n",
       "    </tr>\n",
       "    <tr>\n",
       "      <th>2</th>\n",
       "      <td>Tyniec</td>\n",
       "      <td>112 Os. Podwawelskie</td>\n",
       "      <td>2.0</td>\n",
       "    </tr>\n",
       "    <tr>\n",
       "      <th>3</th>\n",
       "      <td>Boleslawa smialego</td>\n",
       "      <td>112 Os. Podwawelskie</td>\n",
       "      <td>3.0</td>\n",
       "    </tr>\n",
       "    <tr>\n",
       "      <th>4</th>\n",
       "      <td>Tyniecka Autostrada (nz)</td>\n",
       "      <td>112 Os. Podwawelskie</td>\n",
       "      <td>4.0</td>\n",
       "    </tr>\n",
       "    <tr>\n",
       "      <th>5</th>\n",
       "      <td>Kolna (nz)</td>\n",
       "      <td>112 Os. Podwawelskie</td>\n",
       "      <td>5.0</td>\n",
       "    </tr>\n",
       "    <tr>\n",
       "      <th>6</th>\n",
       "      <td>Kostrze Kapliczka (nz)</td>\n",
       "      <td>112 Os. Podwawelskie</td>\n",
       "      <td>6.0</td>\n",
       "    </tr>\n",
       "    <tr>\n",
       "      <th>7</th>\n",
       "      <td>Waly Wislane (nz)</td>\n",
       "      <td>112 Os. Podwawelskie</td>\n",
       "      <td>7.0</td>\n",
       "    </tr>\n",
       "    <tr>\n",
       "      <th>8</th>\n",
       "      <td>Kostrze Szkola</td>\n",
       "      <td>112 Os. Podwawelskie</td>\n",
       "      <td>8.0</td>\n",
       "    </tr>\n",
       "    <tr>\n",
       "      <th>9</th>\n",
       "      <td>Fort Bodzow (nz)</td>\n",
       "      <td>112 Os. Podwawelskie</td>\n",
       "      <td>9.0</td>\n",
       "    </tr>\n",
       "    <tr>\n",
       "      <th>10</th>\n",
       "      <td>Gorka Pychowicka (nz)</td>\n",
       "      <td>112 Os. Podwawelskie</td>\n",
       "      <td>11.0</td>\n",
       "    </tr>\n",
       "    <tr>\n",
       "      <th>11</th>\n",
       "      <td>Rodzinna</td>\n",
       "      <td>112 Os. Podwawelskie</td>\n",
       "      <td>12.0</td>\n",
       "    </tr>\n",
       "    <tr>\n",
       "      <th>12</th>\n",
       "      <td>Pychowice</td>\n",
       "      <td>112 Os. Podwawelskie</td>\n",
       "      <td>14.0</td>\n",
       "    </tr>\n",
       "    <tr>\n",
       "      <th>13</th>\n",
       "      <td>Park 'Skaly Twardowskiego' (nz)</td>\n",
       "      <td>112 Os. Podwawelskie</td>\n",
       "      <td>15.0</td>\n",
       "    </tr>\n",
       "    <tr>\n",
       "      <th>14</th>\n",
       "      <td>Os. Robotnicze</td>\n",
       "      <td>112 Os. Podwawelskie</td>\n",
       "      <td>17.0</td>\n",
       "    </tr>\n",
       "    <tr>\n",
       "      <th>15</th>\n",
       "      <td>Zielinskiego (nz)</td>\n",
       "      <td>112 Os. Podwawelskie</td>\n",
       "      <td>18.0</td>\n",
       "    </tr>\n",
       "    <tr>\n",
       "      <th>16</th>\n",
       "      <td>Praska (nz)</td>\n",
       "      <td>112 Os. Podwawelskie</td>\n",
       "      <td>19.0</td>\n",
       "    </tr>\n",
       "    <tr>\n",
       "      <th>17</th>\n",
       "      <td>Rynek Debnicki</td>\n",
       "      <td>112 Os. Podwawelskie</td>\n",
       "      <td>21.0</td>\n",
       "    </tr>\n",
       "    <tr>\n",
       "      <th>18</th>\n",
       "      <td>Baluckiego (nz)</td>\n",
       "      <td>112 Os. Podwawelskie</td>\n",
       "      <td>22.0</td>\n",
       "    </tr>\n",
       "    <tr>\n",
       "      <th>19</th>\n",
       "      <td>Szwedzka</td>\n",
       "      <td>112 Os. Podwawelskie</td>\n",
       "      <td>25.0</td>\n",
       "    </tr>\n",
       "    <tr>\n",
       "      <th>20</th>\n",
       "      <td>Rondo Grunwaldzkie</td>\n",
       "      <td>112 Os. Podwawelskie</td>\n",
       "      <td>27.0</td>\n",
       "    </tr>\n",
       "    <tr>\n",
       "      <th>21</th>\n",
       "      <td>Os. Podwawelskie</td>\n",
       "      <td>112 Os. Podwawelskie</td>\n",
       "      <td>28.0</td>\n",
       "    </tr>\n",
       "  </tbody>\n",
       "</table>\n",
       "</div>"
      ],
      "text/plain": [
       "                               stop                  line  time\n",
       "0                Tyniec Kamieniolom  112 Os. Podwawelskie   0.0\n",
       "1                        Bogucianka  112 Os. Podwawelskie   1.0\n",
       "2                            Tyniec  112 Os. Podwawelskie   2.0\n",
       "3                Boleslawa smialego  112 Os. Podwawelskie   3.0\n",
       "4          Tyniecka Autostrada (nz)  112 Os. Podwawelskie   4.0\n",
       "5                        Kolna (nz)  112 Os. Podwawelskie   5.0\n",
       "6            Kostrze Kapliczka (nz)  112 Os. Podwawelskie   6.0\n",
       "7                 Waly Wislane (nz)  112 Os. Podwawelskie   7.0\n",
       "8                    Kostrze Szkola  112 Os. Podwawelskie   8.0\n",
       "9                  Fort Bodzow (nz)  112 Os. Podwawelskie   9.0\n",
       "10            Gorka Pychowicka (nz)  112 Os. Podwawelskie  11.0\n",
       "11                         Rodzinna  112 Os. Podwawelskie  12.0\n",
       "12                        Pychowice  112 Os. Podwawelskie  14.0\n",
       "13  Park 'Skaly Twardowskiego' (nz)  112 Os. Podwawelskie  15.0\n",
       "14                   Os. Robotnicze  112 Os. Podwawelskie  17.0\n",
       "15                Zielinskiego (nz)  112 Os. Podwawelskie  18.0\n",
       "16                      Praska (nz)  112 Os. Podwawelskie  19.0\n",
       "17                   Rynek Debnicki  112 Os. Podwawelskie  21.0\n",
       "18                  Baluckiego (nz)  112 Os. Podwawelskie  22.0\n",
       "19                         Szwedzka  112 Os. Podwawelskie  25.0\n",
       "20               Rondo Grunwaldzkie  112 Os. Podwawelskie  27.0\n",
       "21                 Os. Podwawelskie  112 Os. Podwawelskie  28.0"
      ]
     },
     "execution_count": 14,
     "metadata": {},
     "output_type": "execute_result"
    }
   ],
   "source": [
    "result = session.run(\"MATCH (start:Stop {line_stop_id: 'block_1_trip_11_service_1-stop_422_59101'}),\" \n",
    "\"(end:Stop {line_stop_id: 'block_1_trip_11_service_1-stop_1201_281201'})\"\n",
    "\"CALL gds.alpha.shortestPath.stream({\"\n",
    "\"  nodeProjection: 'Stop',\"\n",
    "\"  relationshipProjection: {\"\n",
    "\"    TIME: {\"\n",
    "\"      type: 'TIME',\"\n",
    "\"      properties: 'minutes',\"\n",
    "\"      orientation: 'NATURAL'\"\n",
    "\"    }\"\n",
    "\"  },\"\n",
    "\"  startNode: start,\"\n",
    "\"  endNode: end,\"\n",
    "\"  relationshipWeightProperty: 'minutes'\"\n",
    "\"})\"\n",
    "\"YIELD nodeId, cost \"\n",
    "\"RETURN gds.util.asNode(nodeId).stop_name AS stop, gds.util.asNode(nodeId).line_name AS line, cost as time\")\n",
    "                     \n",
    "data = result.data()\n",
    "DataFrame(data)"
   ]
  },
  {
   "cell_type": "code",
   "execution_count": 15,
   "metadata": {},
   "outputs": [
    {
     "name": "stdout",
     "output_type": "stream",
     "text": [
      "[{'stop': 'Tyniec Kamieniolom', 'line': '112 Os. Podwawelskie', 'time': 0.0}, {'stop': 'Bogucianka', 'line': '112 Os. Podwawelskie', 'time': 1.0}, {'stop': 'Tyniec', 'line': '112 Os. Podwawelskie', 'time': 2.0}, {'stop': 'Boleslawa smialego', 'line': '112 Os. Podwawelskie', 'time': 3.0}, {'stop': 'Tyniecka Autostrada (nz)', 'line': '112 Os. Podwawelskie', 'time': 4.0}, {'stop': 'Kolna (nz)', 'line': '112 Os. Podwawelskie', 'time': 5.0}, {'stop': 'Kostrze Kapliczka (nz)', 'line': '112 Os. Podwawelskie', 'time': 6.0}, {'stop': 'Waly Wislane (nz)', 'line': '112 Os. Podwawelskie', 'time': 7.0}, {'stop': 'Kostrze Szkola', 'line': '112 Os. Podwawelskie', 'time': 8.0}, {'stop': 'Fort Bodzow (nz)', 'line': '112 Os. Podwawelskie', 'time': 9.0}, {'stop': 'Gorka Pychowicka (nz)', 'line': '112 Os. Podwawelskie', 'time': 11.0}, {'stop': 'Rodzinna', 'line': '112 Os. Podwawelskie', 'time': 12.0}, {'stop': 'Pychowice', 'line': '112 Os. Podwawelskie', 'time': 14.0}, {'stop': \"Park 'Skaly Twardowskiego' (nz)\", 'line': '112 Os. Podwawelskie', 'time': 15.0}, {'stop': 'Os. Robotnicze', 'line': '112 Os. Podwawelskie', 'time': 17.0}, {'stop': 'Zielinskiego (nz)', 'line': '112 Os. Podwawelskie', 'time': 18.0}, {'stop': 'Praska (nz)', 'line': '112 Os. Podwawelskie', 'time': 19.0}, {'stop': 'Rynek Debnicki', 'line': '112 Os. Podwawelskie', 'time': 21.0}, {'stop': 'Baluckiego (nz)', 'line': '112 Os. Podwawelskie', 'time': 22.0}, {'stop': 'Szwedzka', 'line': '112 Os. Podwawelskie', 'time': 25.0}, {'stop': 'Rondo Grunwaldzkie', 'line': '112 Os. Podwawelskie', 'time': 27.0}, {'stop': 'Os. Podwawelskie', 'line': '112 Os. Podwawelskie', 'time': 28.0}]\n"
     ]
    }
   ],
   "source": [
    "print(data)"
   ]
  },
  {
   "cell_type": "code",
   "execution_count": 12,
   "metadata": {},
   "outputs": [],
   "source": [
    "start_stop_name = \"Miasteczko Studenckie AGH\"\n",
    "\n",
    "available_start_stops = session.run(f\"match (s: Stop {{stop_name: '{start_stop_name}'}} ) return distinct s.stop_id\")"
   ]
  },
  {
   "cell_type": "code",
   "execution_count": 13,
   "metadata": {},
   "outputs": [
    {
     "name": "stdout",
     "output_type": "stream",
     "text": [
      "[{'s.stop_id': 'stop_61_8501'}, {'s.stop_id': 'stop_61_8503'}, {'s.stop_id': 'stop_61_8502'}, {'s.stop_id': 'stop_61_8504'}]\n"
     ]
    }
   ],
   "source": [
    "print(available_start_stops.data())"
   ]
  },
  {
   "cell_type": "code",
   "execution_count": null,
   "metadata": {},
   "outputs": [],
   "source": []
  }
 ],
 "metadata": {
  "kernelspec": {
   "display_name": "Python 3",
   "language": "python",
   "name": "python3"
  },
  "language_info": {
   "codemirror_mode": {
    "name": "ipython",
    "version": 3
   },
   "file_extension": ".py",
   "mimetype": "text/x-python",
   "name": "python",
   "nbconvert_exporter": "python",
   "pygments_lexer": "ipython3",
   "version": "3.8.3"
  }
 },
 "nbformat": 4,
 "nbformat_minor": 4
}
